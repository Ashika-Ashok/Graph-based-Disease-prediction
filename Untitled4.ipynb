{
  "nbformat": 4,
  "nbformat_minor": 0,
  "metadata": {
    "colab": {
      "provenance": [],
      "authorship_tag": "ABX9TyNCIcWSG6Yh43SWADpW58Mj",
      "include_colab_link": true
    },
    "kernelspec": {
      "name": "python3",
      "display_name": "Python 3"
    },
    "language_info": {
      "name": "python"
    }
  },
  "cells": [
    {
      "cell_type": "markdown",
      "metadata": {
        "id": "view-in-github",
        "colab_type": "text"
      },
      "source": [
        "<a href=\"https://colab.research.google.com/github/Ashika-Ashok/Graph-based-Disease-prediction/blob/main/Untitled4.ipynb\" target=\"_parent\"><img src=\"https://colab.research.google.com/assets/colab-badge.svg\" alt=\"Open In Colab\"/></a>"
      ]
    },
    {
      "cell_type": "code",
      "execution_count": null,
      "metadata": {
        "colab": {
          "base_uri": "https://localhost:8080/"
        },
        "id": "37dS8SFBh-q9",
        "outputId": "3d09fead-0303-426e-cb42-6e06ca7faee0"
      },
      "outputs": [
        {
          "output_type": "stream",
          "name": "stdout",
          "text": [
            "Requirement already satisfied: pandas in /usr/local/lib/python3.10/dist-packages (2.2.2)\n",
            "Collecting torch-geometric\n",
            "  Downloading torch_geometric-2.6.1-py3-none-any.whl.metadata (63 kB)\n",
            "\u001b[2K     \u001b[90m━━━━━━━━━━━━━━━━━━━━━━━━━━━━━━━━━━━━━━━━\u001b[0m \u001b[32m63.1/63.1 kB\u001b[0m \u001b[31m2.4 MB/s\u001b[0m eta \u001b[36m0:00:00\u001b[0m\n",
            "\u001b[?25hRequirement already satisfied: numpy>=1.22.4 in /usr/local/lib/python3.10/dist-packages (from pandas) (1.26.4)\n",
            "Requirement already satisfied: python-dateutil>=2.8.2 in /usr/local/lib/python3.10/dist-packages (from pandas) (2.8.2)\n",
            "Requirement already satisfied: pytz>=2020.1 in /usr/local/lib/python3.10/dist-packages (from pandas) (2024.2)\n",
            "Requirement already satisfied: tzdata>=2022.7 in /usr/local/lib/python3.10/dist-packages (from pandas) (2024.2)\n",
            "Requirement already satisfied: aiohttp in /usr/local/lib/python3.10/dist-packages (from torch-geometric) (3.11.2)\n",
            "Requirement already satisfied: fsspec in /usr/local/lib/python3.10/dist-packages (from torch-geometric) (2024.10.0)\n",
            "Requirement already satisfied: jinja2 in /usr/local/lib/python3.10/dist-packages (from torch-geometric) (3.1.4)\n",
            "Requirement already satisfied: psutil>=5.8.0 in /usr/local/lib/python3.10/dist-packages (from torch-geometric) (5.9.5)\n",
            "Requirement already satisfied: pyparsing in /usr/local/lib/python3.10/dist-packages (from torch-geometric) (3.2.0)\n",
            "Requirement already satisfied: requests in /usr/local/lib/python3.10/dist-packages (from torch-geometric) (2.32.3)\n",
            "Requirement already satisfied: tqdm in /usr/local/lib/python3.10/dist-packages (from torch-geometric) (4.66.6)\n",
            "Requirement already satisfied: six>=1.5 in /usr/local/lib/python3.10/dist-packages (from python-dateutil>=2.8.2->pandas) (1.16.0)\n",
            "Requirement already satisfied: aiohappyeyeballs>=2.3.0 in /usr/local/lib/python3.10/dist-packages (from aiohttp->torch-geometric) (2.4.3)\n",
            "Requirement already satisfied: aiosignal>=1.1.2 in /usr/local/lib/python3.10/dist-packages (from aiohttp->torch-geometric) (1.3.1)\n",
            "Requirement already satisfied: attrs>=17.3.0 in /usr/local/lib/python3.10/dist-packages (from aiohttp->torch-geometric) (24.2.0)\n",
            "Requirement already satisfied: frozenlist>=1.1.1 in /usr/local/lib/python3.10/dist-packages (from aiohttp->torch-geometric) (1.5.0)\n",
            "Requirement already satisfied: multidict<7.0,>=4.5 in /usr/local/lib/python3.10/dist-packages (from aiohttp->torch-geometric) (6.1.0)\n",
            "Requirement already satisfied: propcache>=0.2.0 in /usr/local/lib/python3.10/dist-packages (from aiohttp->torch-geometric) (0.2.0)\n",
            "Requirement already satisfied: yarl<2.0,>=1.17.0 in /usr/local/lib/python3.10/dist-packages (from aiohttp->torch-geometric) (1.17.2)\n",
            "Requirement already satisfied: async-timeout<6.0,>=4.0 in /usr/local/lib/python3.10/dist-packages (from aiohttp->torch-geometric) (4.0.3)\n",
            "Requirement already satisfied: MarkupSafe>=2.0 in /usr/local/lib/python3.10/dist-packages (from jinja2->torch-geometric) (3.0.2)\n",
            "Requirement already satisfied: charset-normalizer<4,>=2 in /usr/local/lib/python3.10/dist-packages (from requests->torch-geometric) (3.4.0)\n",
            "Requirement already satisfied: idna<4,>=2.5 in /usr/local/lib/python3.10/dist-packages (from requests->torch-geometric) (3.10)\n",
            "Requirement already satisfied: urllib3<3,>=1.21.1 in /usr/local/lib/python3.10/dist-packages (from requests->torch-geometric) (2.2.3)\n",
            "Requirement already satisfied: certifi>=2017.4.17 in /usr/local/lib/python3.10/dist-packages (from requests->torch-geometric) (2024.8.30)\n",
            "Requirement already satisfied: typing-extensions>=4.1.0 in /usr/local/lib/python3.10/dist-packages (from multidict<7.0,>=4.5->aiohttp->torch-geometric) (4.12.2)\n",
            "Downloading torch_geometric-2.6.1-py3-none-any.whl (1.1 MB)\n",
            "\u001b[2K   \u001b[90m━━━━━━━━━━━━━━━━━━━━━━━━━━━━━━━━━━━━━━━━\u001b[0m \u001b[32m1.1/1.1 MB\u001b[0m \u001b[31m23.4 MB/s\u001b[0m eta \u001b[36m0:00:00\u001b[0m\n",
            "\u001b[?25hInstalling collected packages: torch-geometric\n",
            "Successfully installed torch-geometric-2.6.1\n"
          ]
        }
      ],
      "source": [
        "pip install pandas torch-geometric\n"
      ]
    },
    {
      "cell_type": "code",
      "source": [
        "import pandas as pd\n",
        "import torch\n",
        "from torch_geometric.data import Data\n",
        "\n",
        "# Load the Excel sheet\n",
        "file_path = '/content/symbipredict_2022.xlsx'\n",
        "df = pd.read_excel(file_path)\n",
        "\n",
        "# Extract node features (symptoms) and labels (diseases)\n",
        "# All columns except the last one (which is the disease column)\n",
        "node_features = torch.tensor(df.iloc[:, :-1].values, dtype=torch.float)  # Symptoms data (binary)\n",
        "\n",
        "# Convert the disease labels to numeric values\n",
        "labels = df.iloc[:, -1].astype('category').cat.codes  # Convert disease labels to numeric codes\n",
        "\n",
        "# Now you can safely convert the labels into a tensor\n",
        "node_labels = torch.tensor(labels.values, dtype=torch.long)\n",
        "\n",
        "# Create an edge list based on similarity (example: patients with the same disease)\n",
        "# You can modify this logic based on your specific edge creation criteria\n",
        "edge_index = []\n",
        "\n",
        "for i in range(len(df)):\n",
        "    for j in range(i + 1, len(df)):\n",
        "        # If patients have the same predicted disease, create an edge\n",
        "        if labels[i] == labels[j]:\n",
        "            edge_index.append([i, j])\n",
        "            edge_index.append([j, i])  # Bidirectional edge\n",
        "\n",
        "edge_index = torch.tensor(edge_index, dtype=torch.long).t().contiguous()\n",
        "\n",
        "# Create the PyTorch Geometric data object\n",
        "data = Data(x=node_features, edge_index=edge_index, y=node_labels)\n",
        "\n",
        "# Optionally, save the data for later use\n",
        "torch.save(data, 'graph_data.pt')\n",
        "\n",
        "# Print the data to verify\n",
        "print(data)\n"
      ],
      "metadata": {
        "colab": {
          "base_uri": "https://localhost:8080/"
        },
        "id": "Q5-fF0aCjMRl",
        "outputId": "54a4e0da-5daa-4c1b-ce2f-346194e64fd8"
      },
      "execution_count": null,
      "outputs": [
        {
          "output_type": "stream",
          "name": "stdout",
          "text": [
            "Data(x=[4961, 132], edge_index=[2, 595320], y=[4961])\n"
          ]
        }
      ]
    },
    {
      "cell_type": "code",
      "source": [
        "edge_index = []\n",
        "\n",
        "for i in range(len(df)):\n",
        "    for j in range(i + 1, len(df)):\n",
        "        if labels[i] == labels[j]:  # If patients have the same predicted disease\n",
        "            edge_index.append([i, j])\n",
        "            edge_index.append([j, i])  # Bidirectional edge\n",
        "\n",
        "edge_index = torch.tensor(edge_index, dtype=torch.long).t().contiguous()\n",
        "\n",
        "# Create the PyTorch Geometric data object\n",
        "data = Data(x=node_features, edge_index=edge_index, y=node_labels)\n",
        "\n",
        "# Print the dataset details\n",
        "print(f'Dataset: YourDatasetName')\n",
        "print('======================')\n",
        "print(f'Number of graphs: {1}')  # The number of patients (graphs) is equal to the number of records\n",
        "print(f'Number of features: {data.num_features}')  # Number of features (symptoms)\n",
        "print(f'Number of classes: {len(torch.unique(node_labels))}')  # Number of unique disease classes"
      ],
      "metadata": {
        "colab": {
          "base_uri": "https://localhost:8080/"
        },
        "id": "tMWZxjownS4g",
        "outputId": "d23cd528-c6a9-4e10-c500-752792c290ca"
      },
      "execution_count": null,
      "outputs": [
        {
          "output_type": "stream",
          "name": "stdout",
          "text": [
            "Dataset: YourDatasetName\n",
            "======================\n",
            "Number of graphs: 1\n",
            "Number of features: 132\n",
            "Number of classes: 41\n"
          ]
        }
      ]
    },
    {
      "cell_type": "code",
      "source": [
        "num_nodes = data.num_nodes  # Number of nodes\n",
        "num_edges = data.num_edges  # Number of edges\n",
        "avg_degree = num_edges / num_nodes  # Average node degree\n",
        "num_classes = len(torch.unique(node_labels))  # Number of unique disease classes\n",
        "\n",
        "# Assume some training nodes (example: select the first 4 nodes as training nodes)\n",
        "num_training_nodes = 4  # Modify as needed\n",
        "training_label_rate = num_training_nodes / num_nodes\n",
        "\n",
        "# Check for isolated nodes\n",
        "degree = torch.zeros(num_nodes, dtype=torch.long)  # Initialize degrees of all nodes to 0\n",
        "degree.index_add_(0, data.edge_index[0], torch.ones(data.edge_index.size(1), dtype=torch.long))\n",
        "has_isolated_nodes = (degree == 0).any().item()\n",
        "\n",
        "# Check for self-loops\n",
        "self_loops = data.edge_index[0] == data.edge_index[1]\n",
        "has_self_loops = self_loops.any().item()\n",
        "\n",
        "# Check if the graph is undirected\n",
        "is_undirected = torch.equal(data.edge_index, data.edge_index.flip(0))\n",
        "\n",
        "# Display results\n",
        "print(f'Dataset: YourDatasetName')\n",
        "print('======================')\n",
        "print(f'Number of nodes: {num_nodes}')\n",
        "print(f'Number of edges: {num_edges}')\n",
        "print(f'Average node degree: {avg_degree:.2f}')\n",
        "print(f'Number of classes: {num_classes}')\n",
        "print(f'Number of training nodes: {num_training_nodes}')\n",
        "print(f'Training node label rate: {training_label_rate:.2f}')\n",
        "print(f'Has isolated nodes: {has_isolated_nodes}')\n",
        "print(f'Has self-loops: {has_self_loops}')\n",
        "print(f'Is undirected: {is_undirected}')"
      ],
      "metadata": {
        "colab": {
          "base_uri": "https://localhost:8080/"
        },
        "id": "tVlmiPcY0dPN",
        "outputId": "d554d1e7-343d-406d-e496-8d73ed36cfc0"
      },
      "execution_count": null,
      "outputs": [
        {
          "output_type": "stream",
          "name": "stdout",
          "text": [
            "Dataset: YourDatasetName\n",
            "======================\n",
            "Number of nodes: 4961\n",
            "Number of edges: 595320\n",
            "Average node degree: 120.00\n",
            "Number of classes: 41\n",
            "Number of training nodes: 4\n",
            "Training node label rate: 0.00\n",
            "Has isolated nodes: False\n",
            "Has self-loops: False\n",
            "Is undirected: False\n"
          ]
        }
      ]
    },
    {
      "cell_type": "code",
      "source": [
        "import pandas as pd\n",
        "import torch\n",
        "import networkx as nx\n",
        "import matplotlib.pyplot as plt\n",
        "import matplotlib.cm as cm\n",
        "import matplotlib.colors as mcolors\n",
        "\n",
        "# Load the Excel sheet\n",
        "file_path = '/content/symbipredict_2022.xlsx'\n",
        "df = pd.read_excel(file_path)\n",
        "\n",
        "# Extract node features and labels\n",
        "node_features = torch.tensor(df.iloc[:, :-1].values, dtype=torch.float)\n",
        "labels = df.iloc[:, -1].astype('category').cat.codes\n",
        "\n",
        "# Create edge list\n",
        "edge_list = []\n",
        "for i in range(len(df)):\n",
        "    for j in range(i + 1, len(df)):\n",
        "        if labels[i] == labels[j]:\n",
        "            edge_list.append((i, j))\n",
        "\n",
        "# Create a NetworkX graph\n",
        "G = nx.Graph()\n",
        "G.add_nodes_from(range(len(df)))\n",
        "G.add_edges_from(edge_list)\n",
        "\n",
        "# Node colors based on labels\n",
        "colors = labels.values  # Node color corresponds to the disease label\n",
        "\n",
        "# Plot the graph\n",
        "plt.figure(figsize=(14, 10))\n",
        "pos = nx.spring_layout(G, seed=42, k=0.2)  # Adjust spring layout for better spacing\n",
        "nx.draw(\n",
        "    G, pos,\n",
        "    node_color=colors,\n",
        "    cmap=plt.cm.tab10,\n",
        "    with_labels=True,\n",
        "    labels={i: f'P{i}' for i in range(len(df))},  # Label nodes as Patient IDs\n",
        "    node_size=800,  # Increase node size for clarity\n",
        "    font_size=10,\n",
        "    font_color='white',\n",
        "    edge_color='gray'\n",
        ")\n",
        "\n",
        "# Create the ScalarMappable object for the colorbar\n",
        "cmap = plt.cm.tab10\n",
        "norm = mcolors.Normalize(vmin=min(colors), vmax=max(colors))\n",
        "sm = cm.ScalarMappable(cmap=cmap, norm=norm)\n",
        "\n",
        "# Add the colorbar to the plot, specifying the current axes `plt.gca()` as the target\n",
        "plt.colorbar(sm, ax=plt.gca())\n",
        "\n",
        "# Set title\n",
        "plt.title(\"Patient Graph Based on Predicted Diseases\")\n",
        "plt.show()\n"
      ],
      "metadata": {
        "id": "Jgdq0q6M2TS_"
      },
      "execution_count": null,
      "outputs": []
    },
    {
      "cell_type": "code",
      "source": [
        "plt.savefig(\"patient_graph_with_coordinates.png\")\n"
      ],
      "metadata": {
        "colab": {
          "base_uri": "https://localhost:8080/",
          "height": 34
        },
        "id": "Bq8xmRyB8FdE",
        "outputId": "c5110e84-a645-465a-dbbb-c1f3202bea26"
      },
      "execution_count": null,
      "outputs": [
        {
          "output_type": "display_data",
          "data": {
            "text/plain": [
              "<Figure size 640x480 with 0 Axes>"
            ]
          },
          "metadata": {}
        }
      ]
    },
    {
      "cell_type": "code",
      "source": [],
      "metadata": {
        "id": "aEBnavYP901B"
      },
      "execution_count": null,
      "outputs": []
    },
    {
      "cell_type": "code",
      "source": [
        "import pandas as pd\n",
        "import torch\n",
        "import torch.nn as nn\n",
        "import torch.optim as optim\n",
        "from sklearn.metrics import precision_score, recall_score, f1_score\n",
        "from torch_geometric.nn import GCNConv\n",
        "from torch_geometric.data import Data\n",
        "\n",
        "# Step 1: Load the dataset\n",
        "file_path = '/content/symbipredict_2022.xlsx'\n",
        "df = pd.read_excel(file_path)\n",
        "\n",
        "# Prepare node features (symptoms) and labels (diseases)\n",
        "node_features = torch.tensor(df.iloc[:, :-1].values, dtype=torch.float)\n",
        "labels = df.iloc[:, -1].astype('category').cat.codes\n",
        "node_labels = torch.tensor(labels.values, dtype=torch.long)\n",
        "\n",
        "# Step 2: Construct the graph (edges between patients with the same disease)\n",
        "edge_index = []\n",
        "\n",
        "for i in range(len(df)):\n",
        "    for j in range(i + 1, len(df)):\n",
        "        if labels[i] == labels[j]:  # If patients have the same disease\n",
        "            edge_index.append([i, j])\n",
        "            edge_index.append([j, i])  # Bidirectional edge\n",
        "\n",
        "edge_index = torch.tensor(edge_index, dtype=torch.long).t().contiguous()\n",
        "\n",
        "# Create the PyTorch Geometric Data object\n",
        "data = Data(x=node_features, edge_index=edge_index, y=node_labels)\n",
        "\n",
        "# Step 3: Split the dataset into train and test sets\n",
        "num_nodes = len(df)\n",
        "train_size = int(0.8 * num_nodes)\n",
        "train_mask = torch.zeros(num_nodes, dtype=torch.bool)\n",
        "test_mask = torch.zeros(num_nodes, dtype=torch.bool)\n",
        "train_mask[:train_size] = True\n",
        "test_mask[train_size:] = True\n",
        "\n",
        "# Step 4: Define the GCN model\n",
        "class GCN(nn.Module):\n",
        "    def __init__(self, input_dim, hidden_dim, output_dim):\n",
        "        super(GCN, self).__init__()\n",
        "        self.conv1 = GCNConv(input_dim, hidden_dim)\n",
        "        self.conv2 = GCNConv(hidden_dim, output_dim)\n",
        "\n",
        "    def forward(self, x, edge_index):\n",
        "        x = torch.relu(self.conv1(x, edge_index))  # First graph convolution\n",
        "        x = torch.relu(self.conv2(x, edge_index))  # Second graph convolution\n",
        "        return x\n",
        "\n",
        "# Step 5: Initialize the model and set up training\n",
        "input_dim = node_features.shape[1]  # Number of features (symptoms)\n",
        "hidden_dim = 64  # Number of hidden units\n",
        "output_dim = len(torch.unique(node_labels))  # Number of unique diseases\n",
        "\n",
        "model = GCN(input_dim, hidden_dim, output_dim)\n",
        "optimizer = optim.Adam(model.parameters(), lr=0.01)\n",
        "criterion = nn.CrossEntropyLoss()\n",
        "\n",
        "# Step 6: Train the model\n",
        "model.train()\n",
        "for epoch in range(50):  # Reduce epochs to 50 for quicker training\n",
        "    optimizer.zero_grad()\n",
        "    output = model(data.x, data.edge_index)  # Forward pass\n",
        "    loss = criterion(output[train_mask], data.y[train_mask])  # Calculate loss\n",
        "    loss.backward()  # Backpropagation\n",
        "    optimizer.step()  # Update parameters\n",
        "\n",
        "# Step 7: Evaluate the model\n",
        "model.eval()\n",
        "with torch.no_grad():\n",
        "    output = model(data.x, data.edge_index)\n",
        "    predictions = output.argmax(dim=1)  # Get the predicted class labels\n",
        "\n",
        "    # Accuracy\n",
        "    correct = (predictions[test_mask] == data.y[test_mask]).sum().item()\n",
        "    accuracy = correct / test_mask.sum().item()\n",
        "    print(f'Test Accuracy: {accuracy:.4f}')\n",
        "\n",
        "    # Precision, Recall, F1-Score\n",
        "    y_true = data.y[test_mask].cpu().numpy()\n",
        "    y_pred = predictions[test_mask].cpu().numpy()\n",
        "\n",
        "    precision = precision_score(y_true, y_pred, average='weighted')\n",
        "    recall = recall_score(y_true, y_pred, average='weighted')\n",
        "    f1 = f1_score(y_true, y_pred, average='weighted')\n",
        "\n",
        "    print(f'Test Precision: {precision:.4f}')\n",
        "    print(f'Test Recall: {recall:.4f}')\n",
        "    print(f'Test F1-Score: {f1:.4f}')\n"
      ],
      "metadata": {
        "colab": {
          "base_uri": "https://localhost:8080/"
        },
        "id": "VC03YwyxDyDb",
        "outputId": "6c65b0a8-d187-4b96-f0d9-8b8ce97925ee"
      },
      "execution_count": null,
      "outputs": [
        {
          "output_type": "stream",
          "name": "stdout",
          "text": [
            "Test Accuracy: 0.4401\n",
            "Test Precision: 0.4169\n",
            "Test Recall: 0.4401\n",
            "Test F1-Score: 0.4178\n"
          ]
        },
        {
          "output_type": "stream",
          "name": "stderr",
          "text": [
            "/usr/local/lib/python3.10/dist-packages/sklearn/metrics/_classification.py:1531: UndefinedMetricWarning: Precision is ill-defined and being set to 0.0 in labels with no predicted samples. Use `zero_division` parameter to control this behavior.\n",
            "  _warn_prf(average, modifier, f\"{metric.capitalize()} is\", len(result))\n"
          ]
        }
      ]
    },
    {
      "cell_type": "code",
      "source": [
        "#MULTI layered perceptron\n",
        "import pandas as pd\n",
        "import torch\n",
        "import torch.nn as nn\n",
        "import torch.optim as optim\n",
        "from sklearn.metrics import precision_score, recall_score, f1_score\n",
        "\n",
        "# Step 1: Load the dataset\n",
        "file_path = '/content/symbipredict_2022.xlsx'\n",
        "df = pd.read_excel(file_path)\n",
        "\n",
        "# Prepare node features and labels\n",
        "node_features = torch.tensor(df.iloc[:, :-1].values, dtype=torch.float)\n",
        "labels = df.iloc[:, -1].astype('category').cat.codes\n",
        "node_labels = torch.tensor(labels.values, dtype=torch.long)\n",
        "\n",
        "# Step 2: Split the dataset into training and testing sets\n",
        "num_nodes = len(df)\n",
        "train_size = int(0.8 * num_nodes)\n",
        "train_mask = torch.zeros(num_nodes, dtype=torch.bool)\n",
        "test_mask = torch.zeros(num_nodes, dtype=torch.bool)\n",
        "train_mask[:train_size] = True\n",
        "test_mask[train_size:] = True\n",
        "\n",
        "# Step 3: Define the MLP model\n",
        "class MLP(nn.Module):\n",
        "    def __init__(self, input_dim, hidden_dim, output_dim):\n",
        "        super(MLP, self).__init__()\n",
        "        self.fc1 = nn.Linear(input_dim, hidden_dim)\n",
        "        self.fc2 = nn.Linear(hidden_dim, hidden_dim)\n",
        "        self.fc3 = nn.Linear(hidden_dim, output_dim)\n",
        "\n",
        "    def forward(self, x):\n",
        "        x = torch.relu(self.fc1(x))  # Apply ReLU activation after first layer\n",
        "        x = torch.relu(self.fc2(x))  # Apply ReLU activation after second layer\n",
        "        x = self.fc3(x)  # Final layer for classification\n",
        "        return torch.log_softmax(x, dim=1)  # Log softmax for classification probabilities\n",
        "\n",
        "# Step 4: Train the model\n",
        "input_dim = node_features.shape[1]  # Number of symptoms/features\n",
        "hidden_dim = 64  # Number of hidden units\n",
        "output_dim = len(torch.unique(node_labels))  # Number of unique disease classes\n",
        "\n",
        "model = MLP(input_dim, hidden_dim, output_dim)\n",
        "optimizer = optim.Adam(model.parameters(), lr=0.001)\n",
        "criterion = nn.CrossEntropyLoss()\n",
        "\n",
        "model.train()\n",
        "for epoch in range(200):  # Number of epochs\n",
        "    optimizer.zero_grad()\n",
        "    output = model(node_features)  # Forward pass\n",
        "    loss = criterion(output[train_mask], node_labels[train_mask])  # Calculate loss\n",
        "    loss.backward()  # Backpropagation\n",
        "    optimizer.step()  # Update parameters\n",
        "\n",
        "# Step 5: Evaluate the model\n",
        "model.eval()\n",
        "with torch.no_grad():\n",
        "    output = model(node_features)\n",
        "    predictions = output.argmax(dim=1)\n",
        "\n",
        "    # Calculate Accuracy\n",
        "    correct = (predictions[test_mask] == node_labels[test_mask]).sum().item()\n",
        "    accuracy = correct / test_mask.sum().item()\n",
        "    print(f'Test Accuracy: {accuracy:.4f}')\n",
        "\n",
        "    # Precision, Recall, F1-Score\n",
        "    y_true = node_labels[test_mask].cpu().numpy()\n",
        "    y_pred = predictions[test_mask].cpu().numpy()\n",
        "\n",
        "    precision = precision_score(y_true, y_pred, average='weighted')\n",
        "    recall = recall_score(y_true, y_pred, average='weighted')\n",
        "    f1 = f1_score(y_true, y_pred, average='weighted')\n",
        "\n",
        "    print(f'Test Precision: {precision:.4f}')\n",
        "    print(f'Test Recall: {recall:.4f}')\n",
        "    print(f'Test F1-Score: {f1:.4f}')\n"
      ],
      "metadata": {
        "colab": {
          "base_uri": "https://localhost:8080/"
        },
        "id": "y0-dZT-0_zcz",
        "outputId": "eac959a6-33ea-4973-aaea-ae7df9bf7df8"
      },
      "execution_count": null,
      "outputs": [
        {
          "output_type": "stream",
          "name": "stdout",
          "text": [
            "Test Accuracy: 1.0000\n",
            "Test Precision: 1.0000\n",
            "Test Recall: 1.0000\n",
            "Test F1-Score: 1.0000\n"
          ]
        }
      ]
    },
    {
      "cell_type": "code",
      "source": [
        "#other Ai Models\n",
        "#Random Forest Classifier (Ensemble Learning)\n",
        "from sklearn.ensemble import RandomForestClassifier\n",
        "from sklearn.metrics import precision_score, recall_score, f1_score, accuracy_score\n",
        "\n",
        "# Prepare dataset for sklearn\n",
        "X = df.iloc[:, :-1].values  # Feature matrix (Symptoms)\n",
        "y = df.iloc[:, -1].astype('category').cat.codes  # Disease labels as numeric\n",
        "\n",
        "# Split data into train and test sets\n",
        "from sklearn.model_selection import train_test_split\n",
        "X_train, X_test, y_train, y_test = train_test_split(X, y, test_size=0.2, random_state=42)\n",
        "\n",
        "# Initialize and train the Random Forest Classifier\n",
        "rf_model = RandomForestClassifier(n_estimators=100, random_state=42)\n",
        "rf_model.fit(X_train, y_train)\n",
        "\n",
        "# Predict on the test set\n",
        "y_pred = rf_model.predict(X_test)\n",
        "\n",
        "# Calculate metrics\n",
        "accuracy = accuracy_score(y_test, y_pred)\n",
        "precision = precision_score(y_test, y_pred, average='weighted')\n",
        "recall = recall_score(y_test, y_pred, average='weighted')\n",
        "f1 = f1_score(y_test, y_pred, average='weighted')\n",
        "\n",
        "print(f'Accuracy: {accuracy:.4f}')\n",
        "print(f'Precision: {precision:.4f}')\n",
        "print(f'Recall: {recall:.4f}')\n",
        "print(f'F1-Score: {f1:.4f}')\n"
      ],
      "metadata": {
        "colab": {
          "base_uri": "https://localhost:8080/"
        },
        "id": "awpvktlaAYF1",
        "outputId": "887cc811-1d86-4271-cdf5-88950f7bbe33"
      },
      "execution_count": null,
      "outputs": [
        {
          "output_type": "stream",
          "name": "stdout",
          "text": [
            "Accuracy: 1.0000\n",
            "Precision: 1.0000\n",
            "Recall: 1.0000\n",
            "F1-Score: 1.0000\n"
          ]
        }
      ]
    },
    {
      "cell_type": "code",
      "source": [
        "from sklearn.svm import SVC\n",
        "from sklearn.metrics import precision_score, recall_score, f1_score, accuracy_score\n",
        "\n",
        "# Prepare dataset\n",
        "X = df.iloc[:, :-1].values\n",
        "y = df.iloc[:, -1].astype('category').cat.codes\n",
        "\n",
        "# Split data into train and test sets\n",
        "X_train, X_test, y_train, y_test = train_test_split(X, y, test_size=0.2, random_state=42)\n",
        "\n",
        "# Initialize and train the SVM Classifier\n",
        "svm_model = SVC(kernel='linear', random_state=42)\n",
        "svm_model.fit(X_train, y_train)\n",
        "\n",
        "# Predict on the test set\n",
        "y_pred = svm_model.predict(X_test)\n",
        "\n",
        "# Calculate metrics\n",
        "accuracy = accuracy_score(y_test, y_pred)\n",
        "precision = precision_score(y_test, y_pred, average='weighted')\n",
        "recall = recall_score(y_test, y_pred, average='weighted')\n",
        "f1 = f1_score(y_test, y_pred, average='weighted')\n",
        "\n",
        "print(f'Accuracy: {accuracy:.4f}')\n",
        "print(f'Precision: {precision:.4f}')\n",
        "print(f'Recall: {recall:.4f}')\n",
        "print(f'F1-Score: {f1:.4f}')\n"
      ],
      "metadata": {
        "colab": {
          "base_uri": "https://localhost:8080/"
        },
        "id": "aWMB55YEAxn8",
        "outputId": "f609dbc0-e7ed-4879-adc3-d0e8f3097854"
      },
      "execution_count": null,
      "outputs": [
        {
          "output_type": "stream",
          "name": "stdout",
          "text": [
            "Accuracy: 1.0000\n",
            "Precision: 1.0000\n",
            "Recall: 1.0000\n",
            "F1-Score: 1.0000\n"
          ]
        }
      ]
    },
    {
      "cell_type": "code",
      "source": [
        "import torch\n",
        "import torch.nn as nn\n",
        "import torch.optim as optim\n",
        "from sklearn.metrics import precision_score, recall_score, f1_score, accuracy_score\n",
        "from sklearn.model_selection import train_test_split\n",
        "\n",
        "# Prepare dataset\n",
        "X = df.iloc[:, :-1].values\n",
        "y = df.iloc[:, -1].astype('category').cat.codes\n",
        "\n",
        "# Split data into train and test sets\n",
        "X_train, X_test, y_train, y_test = train_test_split(X, y, test_size=0.2, random_state=42)\n",
        "\n",
        "# Convert to PyTorch tensors\n",
        "X_train_tensor = torch.tensor(X_train, dtype=torch.float32)\n",
        "X_test_tensor = torch.tensor(X_test, dtype=torch.float32)\n",
        "y_train_tensor = torch.tensor(y_train.values, dtype=torch.long)\n",
        "y_test_tensor = torch.tensor(y_test.values, dtype=torch.long)\n",
        "\n",
        "# Define a simple neural network\n",
        "class SimpleNN(nn.Module):\n",
        "    def __init__(self, input_dim, hidden_dim, output_dim):\n",
        "        super(SimpleNN, self).__init__()\n",
        "        self.fc1 = nn.Linear(input_dim, hidden_dim)\n",
        "        self.fc2 = nn.Linear(hidden_dim, hidden_dim)\n",
        "        self.fc3 = nn.Linear(hidden_dim, output_dim)\n",
        "\n",
        "    def forward(self, x):\n",
        "        x = torch.relu(self.fc1(x))\n",
        "        x = torch.relu(self.fc2(x))\n",
        "        x = self.fc3(x)\n",
        "        return torch.log_softmax(x, dim=1)\n",
        "\n",
        "# Train the neural network\n",
        "model = SimpleNN(input_dim=X_train.shape[1], hidden_dim=64, output_dim=len(y.unique()))\n",
        "optimizer = optim.Adam(model.parameters(), lr=0.001)\n",
        "criterion = nn.CrossEntropyLoss()\n",
        "\n",
        "# Training loop\n"
      ],
      "metadata": {
        "id": "QneX5bNeBSJs"
      },
      "execution_count": null,
      "outputs": []
    }
  ]
}